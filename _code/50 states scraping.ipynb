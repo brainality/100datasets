{
 "cells": [
  {
   "cell_type": "markdown",
   "id": "e22f0524",
   "metadata": {},
   "source": [
    "# Web Scraping of state polices departments from www.50states.com"
   ]
  },
  {
   "cell_type": "markdown",
   "id": "89ced683",
   "metadata": {},
   "source": []
  },
  {
   "cell_type": "code",
   "execution_count": 222,
   "id": "65e49f6a",
   "metadata": {},
   "outputs": [],
   "source": [
    "import requests\n",
    "from lxml import html\n",
    "import pandas as pd\n",
    "from requests.structures import CaseInsensitiveDict\n",
    "import os\n"
   ]
  },
  {
   "cell_type": "markdown",
   "id": "517114e0",
   "metadata": {},
   "source": [
    "### Define List of States"
   ]
  },
  {
   "cell_type": "code",
   "execution_count": 223,
   "id": "3901f180",
   "metadata": {},
   "outputs": [],
   "source": [
    "\n",
    "states_names ={\n",
    "               \"Alabama\":\"AL\",\"Alaska\":\"AK\",\n",
    "               \"Arizona\":\"AZ\",\n",
    "               \"Arkansas\":\"AR\",\"California\":\"CA\",\"Colorado\":\"CO\",\n",
    "               \"Connecticut\":\"CT\",\"Delaware\":\"DE\",\"Florida\":\"FL\",\"Georgia\":\"GA\",\"Hawaii\":\"HI\",\n",
    "               \"Idaho\":\"ID\",\"Illinois\":\"IL\",\"Indiana\":\"IN\",\"Iowa\":\"IA\",\"Kansas\":\"KS\",\"Kentucky\":\"KY\",\n",
    "               \"Louisiana\":\"LA\",\"Maine\":\"ME\",\n",
    "               \"Maryland\":\"MD\",\"Massachusetts\":\"MA\",\"Michigan\":\"MI\",\"Minnesota\":\"MN\",\"Mississippi\":\"MS\",\n",
    "               \"Missouri\":\"MO\",\"Montana\":\"MT\",\n",
    "               \"Nebraska\":\"NE\",\"Nevada\":\"NV\",\"New_Hampshire\":\"NH\",\"New_Jersey\":\"NJ\",\"New_Mexico\":\"NM\",\n",
    "               \"New_York\":\"NY\",\"North_Carolina\":\"NC\",\n",
    "               \"North_Dakota\":\"ND\",\"Oregon\":\"OR\",\"Pennsylvania\":\"PA\",\"Rhode_Island\":\"RI\",\n",
    "               \"South_Carolina\":\"SC\",\"South_Dakota\":\"SD\",\"Tennessee\":\"TN\",\"Texas\":\"TX\",\"Utah\":\"UT\",\"Vermont\":\"VT\",\n",
    "               \"Virginia\":\"VA\",\"Washington\":\"WA\",\"West Virginia\":\"WV\",\"Wisconsin\":\"WI\",\"Wyoming\":\"WY\"\n",
    "               }"
   ]
  },
  {
   "cell_type": "markdown",
   "id": "b8c9d745",
   "metadata": {},
   "source": [
    "### Define list variables\n"
   ]
  },
  {
   "cell_type": "code",
   "execution_count": 249,
   "id": "27b06a77",
   "metadata": {},
   "outputs": [],
   "source": [
    "name_list = []\n",
    "address_list = []\n",
    "state_list = []"
   ]
  },
  {
   "cell_type": "markdown",
   "id": "35ce83bd",
   "metadata": {},
   "source": [
    "## Define functions"
   ]
  },
  {
   "cell_type": "markdown",
   "id": "8da1e138",
   "metadata": {},
   "source": [
    "### get_50states_static_page\n",
    " - Get 50states.com html page content.\n",
    " - Input - None\n",
    " - Output - Dictionary \n",
    "     - state_name - list of states names\n",
    "     - states_list - list of content of html page\n",
    "     - elements_list - count of elements to extract(acount of all police departments per state)"
   ]
  },
  {
   "cell_type": "code",
   "execution_count": 250,
   "id": "665963a2",
   "metadata": {},
   "outputs": [],
   "source": [
    "def get_50states_static_page (statesNames):\n",
    "\n",
    "    states_dict = dict()\n",
    "    states_list = []\n",
    "    elements_list = []\n",
    "    \n",
    "    for state_name,state_abbr in statesNames.items():\n",
    "        \n",
    "        page = requests.get('https://www.50states.com/'+state_name+'/police_departments.htm')\n",
    "        tree = html.fromstring(page.content)\n",
    "        count_elements = tree.xpath('count(//strong)')\n",
    "        \n",
    "        #print(state_name+\" \"+str(count_elements))\n",
    "        states_list.append(tree)\n",
    "        elements_list.append(int(count_elements))\n",
    "        states_dict[state_abbr]=state_name,states_list,elements_list\n",
    "        #print(type(states_dict))\n",
    "        \n",
    "    return states_dict"
   ]
  },
  {
   "cell_type": "markdown",
   "id": "4efe783f",
   "metadata": {},
   "source": [
    "### get_names_addresses\n",
    " - extract names and addresses from html object\n",
    " - Input - Dictionary\n",
    " - Output - lists \n",
    "     - name_list - list of states names\n",
    "     - address_list - list of departments addresses\n",
    "     - state_list - list of state abbreviations"
   ]
  },
  {
   "cell_type": "code",
   "execution_count": 287,
   "id": "4e8a87eb",
   "metadata": {},
   "outputs": [],
   "source": [
    "def get_names_addresses(states):\n",
    "    \n",
    "    i=0\n",
    "    for key, value in states.items():\n",
    "        try:\n",
    "    \n",
    "            #print(key)\n",
    "            elements = value[2][i]\n",
    "            html = value[1][i]\n",
    "            #print(elements)\n",
    "            i=i+1\n",
    "\n",
    "            for x in  range(1,elements):\n",
    "                #print(x)\n",
    "                depName = str(html.xpath('/html/body/div[3]/div[3]/div/div[1]/div[2]/main/div/article/div/ul/li['+str(x)+']/strong/text()')).replace('[\\'', '').replace('\\']', '').replace('\\\"', '').replace('[', '').replace(']', '')\n",
    "                address = html.xpath('/html/body/div[3]/div[3]/div/div[1]/div[2]/main/div/article/div/ul/li['+str(x)+']/text()')\n",
    "                if len(depName)>3:\n",
    "                    name_list.append(depName)\n",
    "                    address_list.append(address[3]+','+address[4])\n",
    "                    state_list.append(state_abbr)\n",
    "        except IndexError:\n",
    "            pass\n",
    "    return name_list,address_list,state_list\n"
   ]
  },
  {
   "cell_type": "markdown",
   "id": "6eb5b0c9",
   "metadata": {},
   "source": [
    "## Add data to daframe"
   ]
  },
  {
   "cell_type": "code",
   "execution_count": 289,
   "id": "f218c653",
   "metadata": {},
   "outputs": [],
   "source": [
    "names,address,states = get_names_addresses(get_50states_static_page (states_names))\n"
   ]
  },
  {
   "cell_type": "code",
   "execution_count": 290,
   "id": "c45d43aa",
   "metadata": {},
   "outputs": [
    {
     "data": {
      "text/html": [
       "<div>\n",
       "<style scoped>\n",
       "    .dataframe tbody tr th:only-of-type {\n",
       "        vertical-align: middle;\n",
       "    }\n",
       "\n",
       "    .dataframe tbody tr th {\n",
       "        vertical-align: top;\n",
       "    }\n",
       "\n",
       "    .dataframe thead th {\n",
       "        text-align: right;\n",
       "    }\n",
       "</style>\n",
       "<table border=\"1\" class=\"dataframe\">\n",
       "  <thead>\n",
       "    <tr style=\"text-align: right;\">\n",
       "      <th></th>\n",
       "      <th>name</th>\n",
       "      <th>address</th>\n",
       "      <th>state</th>\n",
       "    </tr>\n",
       "  </thead>\n",
       "  <tbody>\n",
       "    <tr>\n",
       "      <th>0</th>\n",
       "      <td>Abbeville Police Dept</td>\n",
       "      <td>101 E Washington St, Abbeville, 36310</td>\n",
       "      <td>WY</td>\n",
       "    </tr>\n",
       "    <tr>\n",
       "      <th>1</th>\n",
       "      <td>Albertville City Police Dept</td>\n",
       "      <td>116 W Main St, Albertville, 35950</td>\n",
       "      <td>WY</td>\n",
       "    </tr>\n",
       "    <tr>\n",
       "      <th>2</th>\n",
       "      <td>Aliceville Police Dept</td>\n",
       "      <td>215 1st St NE, Aliceville, 35442</td>\n",
       "      <td>WY</td>\n",
       "    </tr>\n",
       "    <tr>\n",
       "      <th>3</th>\n",
       "      <td>Altoona Police Dept</td>\n",
       "      <td>2844 Main St, Altoona, 35952</td>\n",
       "      <td>WY</td>\n",
       "    </tr>\n",
       "    <tr>\n",
       "      <th>4</th>\n",
       "      <td>Animal Control</td>\n",
       "      <td>934 N Ripley St, Montgomery, 36104</td>\n",
       "      <td>WY</td>\n",
       "    </tr>\n",
       "    <tr>\n",
       "      <th>5</th>\n",
       "      <td>Arab Police Dept</td>\n",
       "      <td>1447 Hog Jaw Rd, Arab, 35016</td>\n",
       "      <td>WY</td>\n",
       "    </tr>\n",
       "  </tbody>\n",
       "</table>\n",
       "</div>"
      ],
      "text/plain": [
       "                           name                                address state\n",
       "0         Abbeville Police Dept  101 E Washington St, Abbeville, 36310    WY\n",
       "1  Albertville City Police Dept      116 W Main St, Albertville, 35950    WY\n",
       "2        Aliceville Police Dept       215 1st St NE, Aliceville, 35442    WY\n",
       "3           Altoona Police Dept           2844 Main St, Altoona, 35952    WY\n",
       "4                Animal Control     934 N Ripley St, Montgomery, 36104    WY\n",
       "5              Arab Police Dept           1447 Hog Jaw Rd, Arab, 35016    WY"
      ]
     },
     "execution_count": 290,
     "metadata": {},
     "output_type": "execute_result"
    }
   ],
   "source": [
    "df = pd.DataFrame(columns = ['name','address','state'])\n",
    "\n",
    "df[\"name\"] = names\n",
    "df[\"address\"] = address\n",
    "df[\"state\"] = states\n",
    "\n",
    "df.head(6)"
   ]
  },
  {
   "cell_type": "markdown",
   "id": "a6a3b2ec",
   "metadata": {},
   "source": [
    "### Write to file"
   ]
  },
  {
   "cell_type": "code",
   "execution_count": 302,
   "id": "0ebc8a88",
   "metadata": {},
   "outputs": [],
   "source": [
    "path = r\"C:\\Users\\Alina\\NIBRS_target\\facts\"\n",
    "\n",
    "df.to_csv(os.path.join(path,\"agencies_addresses\"),index=True) "
   ]
  }
 ],
 "metadata": {
  "kernelspec": {
   "display_name": "Python 3 (ipykernel)",
   "language": "python",
   "name": "python3"
  },
  "language_info": {
   "codemirror_mode": {
    "name": "ipython",
    "version": 3
   },
   "file_extension": ".py",
   "mimetype": "text/x-python",
   "name": "python",
   "nbconvert_exporter": "python",
   "pygments_lexer": "ipython3",
   "version": "3.11.3"
  }
 },
 "nbformat": 4,
 "nbformat_minor": 5
}
