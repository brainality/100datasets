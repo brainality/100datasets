{
 "cells": [
  {
   "cell_type": "markdown",
   "id": "72241345",
   "metadata": {},
   "source": [
    "# Use geoapify to get longitude and latitude coordinates based on address\n",
    "\n"
   ]
  },
  {
   "cell_type": "code",
   "execution_count": null,
   "id": "4e234740",
   "metadata": {},
   "outputs": [],
   "source": [
    "import requests\n",
    "import pandas as pd\n",
    "import os"
   ]
  },
  {
   "cell_type": "markdown",
   "id": "a4571fd1",
   "metadata": {},
   "source": [
    "### Define function\n",
    " - Input - dictionary with name, address, state\n",
    " - logic - pass address to geoapify.com API and get lat/lon coordinates in return.\n",
    " - Output - dictionary with name, address, state and coordinates"
   ]
  },
  {
   "cell_type": "code",
   "execution_count": null,
   "id": "0d62411e",
   "metadata": {},
   "outputs": [],
   "source": [
    "def get_coordinates(addresses):\n",
    "    i=0\n",
    "    for keys,values  in addresses.items():\n",
    "        try:\n",
    "\n",
    "            url2api=addresses[keys][\"address\"].replace(\",\",\"\").replace(\" \",\"%20\").replace(\".\",\"\")\n",
    "\n",
    "            url = \"https://api.geoapify.com/v1/geocode/search?text=\"+url2api+\"&format=json&apiKey=2fc3d62d73f04156b0937e52aa7017f6\"\n",
    "\n",
    "            headers = CaseInsensitiveDict()\n",
    "            headers[\"Accept\"] = \"application/json\"\n",
    "\n",
    "            resp = requests.get(url, headers=headers)\n",
    "            print(resp.status_code)\n",
    "            i=i+1\n",
    "            print(\"count \"+str(i))\n",
    "            addresses[keys][\"longitude\"] = resp.json()[\"results\"][0][\"lon\"]\n",
    "            addresses[keys][\"latitude\"] = resp.json()[\"results\"][0][\"lat\"]\n",
    "\n",
    "            #print(resp.json()[\"results\"][0][\"lat\"])\n",
    "            \n",
    "        except Exception as e:\n",
    "            print(e)\n",
    "            addresses[keys][\"longitude\"] = [0,0]\n",
    "            addresses[keys][\"latitude\"] = [0,0]\n",
    "\n",
    "    return addresses                "
   ]
  },
  {
   "cell_type": "markdown",
   "id": "46b0294f",
   "metadata": {},
   "source": [
    "### Run the get_coordinates task"
   ]
  },
  {
   "cell_type": "code",
   "execution_count": null,
   "id": "d1e59f71",
   "metadata": {},
   "outputs": [],
   "source": [
    "data = get_coordinates(df2dict)"
   ]
  },
  {
   "cell_type": "markdown",
   "id": "57815504",
   "metadata": {},
   "source": [
    "### Data with coordinates convert to dataframe data"
   ]
  },
  {
   "cell_type": "code",
   "execution_count": null,
   "id": "c4a0d39c",
   "metadata": {},
   "outputs": [],
   "source": [
    "df_lon_lat = pd.DataFrame.from_dict(data, orient='index',  columns=['name','address','state','coordinates'])"
   ]
  },
  {
   "cell_type": "markdown",
   "id": "fe9187d2",
   "metadata": {},
   "source": [
    "### Write to file"
   ]
  },
  {
   "cell_type": "code",
   "execution_count": null,
   "id": "d603b6d0",
   "metadata": {},
   "outputs": [],
   "source": [
    "\n",
    "path = r\"C:\\Users\\Alina\\NIBRS_target\\facts\"\n",
    "df_lon_lat.to_csv(os.path.join(path,\"agencies_lon_lat.csv\"),index=True) "
   ]
  }
 ],
 "metadata": {
  "kernelspec": {
   "display_name": "Python 3 (ipykernel)",
   "language": "python",
   "name": "python3"
  },
  "language_info": {
   "codemirror_mode": {
    "name": "ipython",
    "version": 3
   },
   "file_extension": ".py",
   "mimetype": "text/x-python",
   "name": "python",
   "nbconvert_exporter": "python",
   "pygments_lexer": "ipython3",
   "version": "3.11.3"
  }
 },
 "nbformat": 4,
 "nbformat_minor": 5
}
